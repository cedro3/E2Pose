{
  "cells": [
    {
      "cell_type": "markdown",
      "metadata": {
        "id": "view-in-github",
        "colab_type": "text"
      },
      "source": [
        "<a href=\"https://colab.research.google.com/github/cedro3/E2Pose/blob/main/E2Pose.ipynb\" target=\"_parent\"><img src=\"https://colab.research.google.com/assets/colab-badge.svg\" alt=\"Open In Colab\"/></a>"
      ]
    },
    {
      "cell_type": "code",
      "execution_count": null,
      "metadata": {
        "id": "F8V1INLhreH6"
      },
      "outputs": [],
      "source": [
        "#@title **Setup**\n",
        "\n",
        "# check GPU\n",
        "!nvidia-smi -L\n",
        "\n",
        "# copy code from github\n",
        "!git clone https://github.com/cedro3/E2Pose.git ./E2Pose\n",
        "%cd /content/E2Pose\n",
        "\n",
        "# make directory\n",
        "!mkdir results\n",
        "!mkdir outputs\n",
        "\n",
        "# download model file\n",
        "!./pretrains/download.sh\n",
        "\n",
        "# define function\n",
        "from function import *\n"
      ]
    },
    {
      "cell_type": "code",
      "execution_count": null,
      "metadata": {
        "id": "kerlIB88xMsB"
      },
      "outputs": [],
      "source": [
        "#@title **E2Pose for video**\n",
        "\n",
        "# inference \n",
        "video = 'magic.mp4' #@param {type:\"string\"}\n",
        "in_path = 'video/'+video\n",
        "\n",
        "!python3 ./inference.py --src $in_path --dst results --model ./pretrains/COCO/ResNet101/512x512/frozen_model.pb\n",
        "\n",
        "\n",
        "# re-encode\n",
        "import os\n",
        "#@markdown　-If the video has sound, check the sound check box\n",
        "sound = True #@param {type:\"boolean\"}\n",
        "result_path = 'results/'+video+'.mp4'\n",
        "out_path = 'outputs/'+os.path.splitext(video)[0]+'_pose.mp4'\n",
        "print('re-encoding...')\n",
        "\n",
        "if sound ==True:\n",
        "  ! ffmpeg -y -i $in_path -loglevel error sound.mp3\n",
        "  ! ffmpeg -y -i $result_path -i sound.mp3 -loglevel error $out_path\n",
        "else:\n",
        "  ! ffmpeg -y -i $result_path -loglevel error $out_path "
      ]
    },
    {
      "cell_type": "code",
      "execution_count": null,
      "metadata": {
        "id": "42z3xR2NVBze"
      },
      "outputs": [],
      "source": [
        "#@title **Play video**\n",
        "#@markdown Note: Crashes if the file is large\n",
        "display_mp4(out_path)"
      ]
    },
    {
      "cell_type": "code",
      "execution_count": null,
      "metadata": {
        "id": "P4158vPDayMH"
      },
      "outputs": [],
      "source": [
        "#@title **Download video**\n",
        "#@markdown Note: Only for chrome\n",
        "from google.colab import files\n",
        "import glob\n",
        "files.download(out_path)"
      ]
    }
  ],
  "metadata": {
    "accelerator": "GPU",
    "colab": {
      "provenance": [],
      "include_colab_link": true
    },
    "kernelspec": {
      "display_name": "Python 3",
      "name": "python3"
    },
    "language_info": {
      "name": "python"
    }
  },
  "nbformat": 4,
  "nbformat_minor": 0
}